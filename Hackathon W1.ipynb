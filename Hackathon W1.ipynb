{
 "cells": [
  {
   "cell_type": "code",
   "execution_count": 122,
   "metadata": {
    "scrolled": false
   },
   "outputs": [],
   "source": [
    "import pandas as pd\n",
    "\n",
    "e_set1 = pd.read_csv('dataH1/deped_publicsecondaryenrollment2012.csv', engine='python')\n",
    "e_set2 = pd.read_csv('dataH1/deped_publicsecondaryenrollment2015.csv', engine='python')\n",
    "\n",
    "e_set1['year'] = 2012\n",
    "e_set2['year'] = 2015\n",
    "\n",
    "e_merge = e_set1.append(e_set2)"
   ]
  },
  {
   "cell_type": "markdown",
   "metadata": {},
   "source": [
    "-Create a new array where you calculate the change in enrollment from 2012 to 2015 for each school as a % of each school’s 2012 enrollment level.-\n"
   ]
  },
  {
   "cell_type": "code",
   "execution_count": null,
   "metadata": {},
   "outputs": [],
   "source": []
  }
 ],
 "metadata": {
  "kernelspec": {
   "display_name": "Python 3",
   "language": "python",
   "name": "python3"
  },
  "language_info": {
   "codemirror_mode": {
    "name": "ipython",
    "version": 3
   },
   "file_extension": ".py",
   "mimetype": "text/x-python",
   "name": "python",
   "nbconvert_exporter": "python",
   "pygments_lexer": "ipython3",
   "version": "3.7.3"
  }
 },
 "nbformat": 4,
 "nbformat_minor": 2
}
